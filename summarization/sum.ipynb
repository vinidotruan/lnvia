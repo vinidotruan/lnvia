{
 "cells": [
  {
   "cell_type": "code",
   "execution_count": 1,
   "metadata": {},
   "outputs": [
    {
     "name": "stdout",
     "output_type": "stream",
     "text": [
      "Defaulting to user installation because normal site-packages is not writeable\n",
      "Requirement already satisfied: sumy in /home/canis/.local/lib/python3.10/site-packages (0.11.0)\n",
      "Requirement already satisfied: pycountry>=18.2.23 in /home/canis/.local/lib/python3.10/site-packages (from sumy) (22.3.5)\n",
      "Requirement already satisfied: nltk>=3.0.2 in /home/canis/.local/lib/python3.10/site-packages (from sumy) (3.8.1)\n",
      "Requirement already satisfied: docopt<0.7,>=0.6.1 in /home/canis/.local/lib/python3.10/site-packages (from sumy) (0.6.2)\n",
      "Requirement already satisfied: breadability>=0.1.20 in /home/canis/.local/lib/python3.10/site-packages (from sumy) (0.1.20)\n",
      "Requirement already satisfied: requests>=2.7.0 in /home/canis/.local/lib/python3.10/site-packages (from sumy) (2.31.0)\n",
      "Requirement already satisfied: chardet in /home/canis/.local/lib/python3.10/site-packages (from breadability>=0.1.20->sumy) (5.1.0)\n",
      "Requirement already satisfied: lxml>=2.0 in /home/canis/.local/lib/python3.10/site-packages (from breadability>=0.1.20->sumy) (4.9.2)\n",
      "Requirement already satisfied: joblib in /home/canis/.local/lib/python3.10/site-packages (from nltk>=3.0.2->sumy) (1.2.0)\n",
      "Requirement already satisfied: tqdm in /home/canis/.local/lib/python3.10/site-packages (from nltk>=3.0.2->sumy) (4.65.0)\n",
      "Requirement already satisfied: regex>=2021.8.3 in /home/canis/.local/lib/python3.10/site-packages (from nltk>=3.0.2->sumy) (2023.6.3)\n",
      "Requirement already satisfied: click in /home/canis/.local/lib/python3.10/site-packages (from nltk>=3.0.2->sumy) (8.1.3)\n",
      "Requirement already satisfied: setuptools in /usr/lib/python3/dist-packages (from pycountry>=18.2.23->sumy) (59.6.0)\n",
      "Requirement already satisfied: urllib3<3,>=1.21.1 in /home/canis/.local/lib/python3.10/site-packages (from requests>=2.7.0->sumy) (1.26.16)\n",
      "Requirement already satisfied: idna<4,>=2.5 in /home/canis/.local/lib/python3.10/site-packages (from requests>=2.7.0->sumy) (3.4)\n",
      "Requirement already satisfied: certifi>=2017.4.17 in /home/canis/.local/lib/python3.10/site-packages (from requests>=2.7.0->sumy) (2023.5.7)\n",
      "Requirement already satisfied: charset-normalizer<4,>=2 in /home/canis/.local/lib/python3.10/site-packages (from requests>=2.7.0->sumy) (3.1.0)\n",
      "Note: you may need to restart the kernel to use updated packages.\n"
     ]
    }
   ],
   "source": [
    "%pip install sumy"
   ]
  },
  {
   "cell_type": "code",
   "execution_count": 5,
   "metadata": {},
   "outputs": [
    {
     "name": "stdout",
     "output_type": "stream",
     "text": [
      "X - são invioláveis a intimidade, a vida privada, a honra e a imagem das pessoas, assegurado o direito a indenização pelo dano material ou moral decorrente de sua violação;\n",
      "XV - é livre a locomoção no território nacional em tempo de paz, podendo qualquer pessoa, nos termos da lei, nele entrar, permanecer ou dele sair com seus bens;\n",
      "XVI - todos podem reunir-se pacificamente, sem armas, em locais abertos ao público, independentemente de autorização, desde que não frustrem outra reunião anteriormente convocada para o mesmo local, sendo apenas exigido prévio aviso à autoridade competente;\n",
      "XIX - as associações só poderão ser compulsoriamente dissolvidas ou ter suas atividades suspensas por decisão judicial, exigindo-se, no primeiro caso, o trânsito em julgado;\n",
      "XXV - no caso de iminente perigo público, a autoridade competente poderá usar de propriedade particular, assegurada ao proprietário indenização ulterior, se houver dano;\n",
      "b) o direito de fiscalização do aproveitamento econômico das obras que criarem ou de que participarem aos criadores, aos intérpretes e às respectivas representações sindicais e associativas;\n",
      "XLV - nenhuma pena passará da pessoa do condenado, podendo a obrigação de reparar o dano e a decretação do perdimento de bens ser, nos termos da lei, estendidas aos sucessores e contra eles executadas, até o limite do valor do patrimônio transferido;\n",
      "LV - aos litigantes, em processo judicial ou administrativo, e aos acusados em geral são assegurados o contraditório e a ampla defesa, com os meios e recursos a ela inerentes;\n",
      "§ 2º Os direitos e garantias expressos nesta Constituição não excluem outros decorrentes do regime e dos princípios por ela adotados, ou dos tratados internacionais em que a República Federativa do Brasil seja parte.\n",
      "§ 3º Os tratados e convenções internacionais sobre direitos humanos que forem aprovados, em cada Casa do Congresso Nacional, em dois turnos, por três quintos dos votos dos respectivos membros, serão equivalentes às emendas constitucionais.\n"
     ]
    }
   ],
   "source": [
    "from __future__ import absolute_import\n",
    "from __future__ import division, print_function, unicode_literals\n",
    "\n",
    "from sumy.parsers.html import HtmlParser\n",
    "from sumy.parsers.plaintext import PlaintextParser\n",
    "from sumy.nlp.tokenizers import Tokenizer\n",
    "from sumy.summarizers.lsa import LsaSummarizer as Summarizer\n",
    "from sumy.nlp.stemmers import Stemmer\n",
    "from sumy.utils import get_stop_words\n",
    "\n",
    "\n",
    "LANGUAGE = \"portuguese\"\n",
    "SENTENCES_COUNT = 10\n",
    "\n",
    "\n",
    "if __name__ == \"__main__\":\n",
    "    url = \"https://en.wikipedia.org/wiki/Automatic_summarization\"\n",
    "    # parser = HtmlParser.from_url(url, Tokenizer(LANGUAGE))\n",
    "    # or for plain text files\n",
    "    parser = PlaintextParser.from_file(\"law.txt\", Tokenizer(LANGUAGE))\n",
    "    # parser = PlaintextParser.from_string(\"Check this out.\", Tokenizer(LANGUAGE))\n",
    "    stemmer = Stemmer(LANGUAGE)\n",
    "\n",
    "    summarizer = Summarizer(stemmer)\n",
    "    summarizer.stop_words = get_stop_words(LANGUAGE)\n",
    "\n",
    "    for sentence in summarizer(parser.document, SENTENCES_COUNT):\n",
    "        print(sentence)"
   ]
  },
  {
   "cell_type": "code",
   "execution_count": null,
   "metadata": {},
   "outputs": [],
   "source": []
  }
 ],
 "metadata": {
  "kernelspec": {
   "display_name": "Python 3 (ipykernel)",
   "language": "python",
   "name": "python3"
  },
  "language_info": {
   "codemirror_mode": {
    "name": "ipython",
    "version": 3
   },
   "file_extension": ".py",
   "mimetype": "text/x-python",
   "name": "python",
   "nbconvert_exporter": "python",
   "pygments_lexer": "ipython3",
   "version": "3.10.6"
  },
  "orig_nbformat": 4
 },
 "nbformat": 4,
 "nbformat_minor": 2
}

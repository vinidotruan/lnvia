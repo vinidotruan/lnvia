{
 "cells": [
  {
   "cell_type": "code",
   "execution_count": 1,
   "metadata": {},
   "outputs": [
    {
     "name": "stdout",
     "output_type": "stream",
     "text": [
      "Collecting git+https://github.com/PrithivirajDamodaran/Parrot_Paraphraser.git\n",
      "  Cloning https://github.com/PrithivirajDamodaran/Parrot_Paraphraser.git to /tmp/pip-req-build-_5y1e79m\n",
      "  Running command git clone --filter=blob:none --quiet https://github.com/PrithivirajDamodaran/Parrot_Paraphraser.git /tmp/pip-req-build-_5y1e79m\n",
      "  Resolved https://github.com/PrithivirajDamodaran/Parrot_Paraphraser.git to commit 720a87a1ee557d8ed8d9a021adbdd1dd5616c5f9\n",
      "  Preparing metadata (setup.py) ... \u001b[?25ldone\n",
      "\u001b[?25hRequirement already satisfied: transformers in /home/canis/anaconda3/envs/lnvia/lib/python3.11/site-packages (from parrot==1.0) (4.29.2)\n",
      "Requirement already satisfied: sentencepiece in /home/canis/anaconda3/envs/lnvia/lib/python3.11/site-packages (from parrot==1.0) (0.1.99)\n",
      "Requirement already satisfied: python-Levenshtein in /home/canis/anaconda3/envs/lnvia/lib/python3.11/site-packages (from parrot==1.0) (0.21.1)\n",
      "Requirement already satisfied: sentence-transformers in /home/canis/anaconda3/envs/lnvia/lib/python3.11/site-packages (from parrot==1.0) (2.2.2)\n",
      "Requirement already satisfied: fuzzywuzzy in /home/canis/anaconda3/envs/lnvia/lib/python3.11/site-packages (from parrot==1.0) (0.18.0)\n",
      "Requirement already satisfied: Levenshtein==0.21.1 in /home/canis/anaconda3/envs/lnvia/lib/python3.11/site-packages (from python-Levenshtein->parrot==1.0) (0.21.1)\n",
      "Requirement already satisfied: rapidfuzz<4.0.0,>=2.3.0 in /home/canis/anaconda3/envs/lnvia/lib/python3.11/site-packages (from Levenshtein==0.21.1->python-Levenshtein->parrot==1.0) (3.1.1)\n",
      "Requirement already satisfied: tqdm in /home/canis/anaconda3/envs/lnvia/lib/python3.11/site-packages (from sentence-transformers->parrot==1.0) (4.65.0)\n",
      "Requirement already satisfied: torch>=1.6.0 in /home/canis/anaconda3/envs/lnvia/lib/python3.11/site-packages (from sentence-transformers->parrot==1.0) (2.0.1)\n",
      "Requirement already satisfied: torchvision in /home/canis/anaconda3/envs/lnvia/lib/python3.11/site-packages (from sentence-transformers->parrot==1.0) (0.15.2)\n",
      "Requirement already satisfied: numpy in /home/canis/anaconda3/envs/lnvia/lib/python3.11/site-packages (from sentence-transformers->parrot==1.0) (1.24.3)\n",
      "Requirement already satisfied: scikit-learn in /home/canis/anaconda3/envs/lnvia/lib/python3.11/site-packages (from sentence-transformers->parrot==1.0) (1.2.2)\n",
      "Requirement already satisfied: scipy in /home/canis/anaconda3/envs/lnvia/lib/python3.11/site-packages (from sentence-transformers->parrot==1.0) (1.10.1)\n",
      "Requirement already satisfied: nltk in /home/canis/anaconda3/envs/lnvia/lib/python3.11/site-packages (from sentence-transformers->parrot==1.0) (3.7)\n",
      "Requirement already satisfied: huggingface-hub>=0.4.0 in /home/canis/anaconda3/envs/lnvia/lib/python3.11/site-packages (from sentence-transformers->parrot==1.0) (0.15.1)\n",
      "Requirement already satisfied: filelock in /home/canis/anaconda3/envs/lnvia/lib/python3.11/site-packages (from transformers->parrot==1.0) (3.9.0)\n",
      "Requirement already satisfied: packaging>=20.0 in /home/canis/anaconda3/envs/lnvia/lib/python3.11/site-packages (from transformers->parrot==1.0) (23.0)\n",
      "Requirement already satisfied: pyyaml>=5.1 in /home/canis/anaconda3/envs/lnvia/lib/python3.11/site-packages (from transformers->parrot==1.0) (6.0)\n",
      "Requirement already satisfied: regex!=2019.12.17 in /home/canis/anaconda3/envs/lnvia/lib/python3.11/site-packages (from transformers->parrot==1.0) (2022.7.9)\n",
      "Requirement already satisfied: requests in /home/canis/anaconda3/envs/lnvia/lib/python3.11/site-packages (from transformers->parrot==1.0) (2.29.0)\n",
      "Requirement already satisfied: tokenizers!=0.11.3,<0.14,>=0.11.1 in /home/canis/anaconda3/envs/lnvia/lib/python3.11/site-packages (from transformers->parrot==1.0) (0.13.2)\n",
      "Requirement already satisfied: fsspec in /home/canis/anaconda3/envs/lnvia/lib/python3.11/site-packages (from huggingface-hub>=0.4.0->sentence-transformers->parrot==1.0) (2023.4.0)\n",
      "Requirement already satisfied: typing-extensions>=3.7.4.3 in /home/canis/anaconda3/envs/lnvia/lib/python3.11/site-packages (from huggingface-hub>=0.4.0->sentence-transformers->parrot==1.0) (4.6.3)\n",
      "Requirement already satisfied: sympy in /home/canis/anaconda3/envs/lnvia/lib/python3.11/site-packages (from torch>=1.6.0->sentence-transformers->parrot==1.0) (1.11.1)\n",
      "Requirement already satisfied: networkx in /home/canis/anaconda3/envs/lnvia/lib/python3.11/site-packages (from torch>=1.6.0->sentence-transformers->parrot==1.0) (2.8.4)\n",
      "Requirement already satisfied: jinja2 in /home/canis/anaconda3/envs/lnvia/lib/python3.11/site-packages (from torch>=1.6.0->sentence-transformers->parrot==1.0) (3.1.2)\n",
      "Requirement already satisfied: click in /home/canis/anaconda3/envs/lnvia/lib/python3.11/site-packages (from nltk->sentence-transformers->parrot==1.0) (8.0.4)\n",
      "Requirement already satisfied: joblib in /home/canis/anaconda3/envs/lnvia/lib/python3.11/site-packages (from nltk->sentence-transformers->parrot==1.0) (1.2.0)\n",
      "Requirement already satisfied: charset-normalizer<4,>=2 in /home/canis/anaconda3/envs/lnvia/lib/python3.11/site-packages (from requests->transformers->parrot==1.0) (2.0.4)\n",
      "Requirement already satisfied: idna<4,>=2.5 in /home/canis/anaconda3/envs/lnvia/lib/python3.11/site-packages (from requests->transformers->parrot==1.0) (3.4)\n",
      "Requirement already satisfied: urllib3<1.27,>=1.21.1 in /home/canis/anaconda3/envs/lnvia/lib/python3.11/site-packages (from requests->transformers->parrot==1.0) (1.26.16)\n",
      "Requirement already satisfied: certifi>=2017.4.17 in /home/canis/anaconda3/envs/lnvia/lib/python3.11/site-packages (from requests->transformers->parrot==1.0) (2023.5.7)\n",
      "Requirement already satisfied: threadpoolctl>=2.0.0 in /home/canis/anaconda3/envs/lnvia/lib/python3.11/site-packages (from scikit-learn->sentence-transformers->parrot==1.0) (2.2.0)\n",
      "Requirement already satisfied: pillow!=8.3.*,>=5.3.0 in /home/canis/anaconda3/envs/lnvia/lib/python3.11/site-packages (from torchvision->sentence-transformers->parrot==1.0) (9.4.0)\n",
      "Requirement already satisfied: MarkupSafe>=2.0 in /home/canis/anaconda3/envs/lnvia/lib/python3.11/site-packages (from jinja2->torch>=1.6.0->sentence-transformers->parrot==1.0) (2.1.1)\n",
      "Requirement already satisfied: mpmath>=0.19 in /home/canis/anaconda3/envs/lnvia/lib/python3.11/site-packages (from sympy->torch>=1.6.0->sentence-transformers->parrot==1.0) (1.2.1)\n"
     ]
    }
   ],
   "source": [
    "! pip install git+https://github.com/PrithivirajDamodaran/Parrot_Paraphraser.git"
   ]
  },
  {
   "cell_type": "code",
   "execution_count": 2,
   "metadata": {},
   "outputs": [],
   "source": [
    "from parrot import Parrot\n",
    "import torch\n",
    "import warnings\n",
    "warnings.filterwarnings(\"ignore\")"
   ]
  },
  {
   "cell_type": "code",
   "execution_count": 3,
   "metadata": {},
   "outputs": [],
   "source": [
    "# For reproducibility\n",
    "def random_state(seed):\n",
    "  torch.manual_seed(seed)\n",
    "  if torch.cuda.is_available():\n",
    "    torch.cuda.manual_seed_all(seed)\n",
    "\n",
    "random_state(1234)"
   ]
  },
  {
   "cell_type": "code",
   "execution_count": 5,
   "metadata": {},
   "outputs": [],
   "source": [
    "parrot = Parrot(model_tag=\"prithivida/parrot_paraphraser_on_T5\", use_gpu=False)"
   ]
  },
  {
   "cell_type": "code",
   "execution_count": 29,
   "metadata": {},
   "outputs": [
    {
     "name": "stdout",
     "output_type": "stream",
     "text": [
      "----------------------------------------------------------------------------------------------------\n",
      "Input_phrase:  1º This Law establishes the National System of Public Policies on Drugs - Sisnad; prescribes measures for the prevention of misuse, attention and social reintegration of drug users and addicts; establishes rules for the repression of unauthorized production and illicit drug trafficking and defines crimes.\n",
      "----------------------------------------------------------------------------------------------------\n",
      "('1º This Law establishes the National System of Public Policies on Drugs - Sisnad; prescribes measures for the prevention of misuse, attention and social reintegration of drug users and addicts; establishes rules for the repression of unauthorized production and illicit drug trafficking and defines crimes.', 0)\n"
     ]
    }
   ],
   "source": [
    "phrases = [\"1º This Law establishes the National System of Public Policies on Drugs - Sisnad; prescribes measures for the prevention of misuse, attention and social reintegration of drug users and addicts; establishes rules for the repression of unauthorized production and illicit drug trafficking and defines crimes.\"]\n",
    "\n",
    "\n",
    "for phrase in phrases:\n",
    "  print(\"-\"*100)\n",
    "  print(\"Input_phrase: \", phrase)\n",
    "  print(\"-\"*100)\n",
    "  para_phrases = parrot.augment(input_phrase=phrase,\n",
    "                                use_gpu=False,\n",
    "                                diversity_ranker=\"levenshtein\",\n",
    "                                do_diverse=False, \n",
    "                                max_return_phrases = 10, \n",
    "                                max_length=32, \n",
    "                                adequacy_threshold = 0.99, \n",
    "                                fluency_threshold = 0.90)\n",
    "  \n",
    "  for para_phrase in para_phrases:\n",
    "   print(para_phrase)"
   ]
  },
  {
   "cell_type": "code",
   "execution_count": null,
   "metadata": {},
   "outputs": [],
   "source": []
  }
 ],
 "metadata": {
  "kernelspec": {
   "display_name": "Python 3 (ipykernel)",
   "language": "python",
   "name": "python3"
  },
  "language_info": {
   "codemirror_mode": {
    "name": "ipython",
    "version": 3
   },
   "file_extension": ".py",
   "mimetype": "text/x-python",
   "name": "python",
   "nbconvert_exporter": "python",
   "pygments_lexer": "ipython3",
   "version": "3.11.3"
  },
  "orig_nbformat": 4
 },
 "nbformat": 4,
 "nbformat_minor": 2
}

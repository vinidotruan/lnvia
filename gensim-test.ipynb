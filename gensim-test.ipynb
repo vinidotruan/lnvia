{
 "cells": [
  {
   "cell_type": "code",
   "execution_count": 16,
   "outputs": [
    {
     "name": "stdout",
     "output_type": "stream",
     "text": [
      "Defaulting to user installation because normal site-packages is not writeable\r\n",
      "Requirement already satisfied: gensim in ./.local/lib/python3.10/site-packages (4.3.1)\r\n",
      "Requirement already satisfied: scipy>=1.7.0 in ./.local/lib/python3.10/site-packages (from gensim) (1.10.1)\r\n",
      "Requirement already satisfied: numpy>=1.18.5 in ./.local/lib/python3.10/site-packages (from gensim) (1.23.5)\r\n",
      "Requirement already satisfied: smart-open>=1.8.1 in ./.local/lib/python3.10/site-packages (from gensim) (6.3.0)\r\n",
      "Note: you may need to restart the kernel to use updated packages.\n",
      "Defaulting to user installation because normal site-packages is not writeable\r\n",
      "\u001B[31mERROR: Invalid requirement: 'PORTULAN/albertina-ptbr'\r\n",
      "Hint: It looks like a path. File 'PORTULAN/albertina-ptbr' does not exist.\u001B[0m\u001B[31m\r\n",
      "\u001B[0mNote: you may need to restart the kernel to use updated packages.\n"
     ]
    }
   ],
   "source": [
    "%pip install gensim\n",
    "%pip install transformers==4.5.1 PORTULAN/albertina-ptbr"
   ],
   "metadata": {
    "collapsed": false,
    "ExecuteTime": {
     "end_time": "2023-06-12T22:50:19.023325800Z",
     "start_time": "2023-06-12T22:50:16.493287100Z"
    }
   }
  },
  {
   "cell_type": "code",
   "execution_count": 18,
   "metadata": {
    "collapsed": true,
    "ExecuteTime": {
     "end_time": "2023-06-12T22:52:33.803678400Z",
     "start_time": "2023-06-12T22:52:33.760619700Z"
    }
   },
   "outputs": [],
   "source": [
    "from gensim.test.utils import common_texts\n",
    "from gensim.models import Word2Vec\n"
   ]
  },
  {
   "cell_type": "code",
   "execution_count": 2,
   "outputs": [],
   "source": [
    "model = Word2Vec(sentences=common_texts, vector_size=100, window=5, min_count=1, workers=4)\n",
    "model.save(\"word2vec.model\")"
   ],
   "metadata": {
    "collapsed": false,
    "ExecuteTime": {
     "end_time": "2023-06-12T20:48:45.669771Z",
     "start_time": "2023-06-12T20:48:45.641358200Z"
    }
   }
  },
  {
   "cell_type": "code",
   "execution_count": 12,
   "outputs": [
    {
     "data": {
      "text/plain": "(0, 2000)"
     },
     "execution_count": 12,
     "metadata": {},
     "output_type": "execute_result"
    }
   ],
   "source": [
    "model = Word2Vec.load(\"word2vec.model\")\n",
    "model.train([[\"hello\", \"world\"]], total_examples=1, epochs=1000)"
   ],
   "metadata": {
    "collapsed": false,
    "ExecuteTime": {
     "end_time": "2023-06-12T20:49:55.123262200Z",
     "start_time": "2023-06-12T20:49:53.790745500Z"
    }
   }
  },
  {
   "cell_type": "code",
   "execution_count": 15,
   "outputs": [
    {
     "ename": "KeyError",
     "evalue": "\"Key 'computers' not present\"",
     "output_type": "error",
     "traceback": [
      "\u001B[0;31m---------------------------------------------------------------------------\u001B[0m",
      "\u001B[0;31mKeyError\u001B[0m                                  Traceback (most recent call last)",
      "Cell \u001B[0;32mIn[15], line 1\u001B[0m\n\u001B[0;32m----> 1\u001B[0m vector \u001B[38;5;241m=\u001B[39m \u001B[43mmodel\u001B[49m\u001B[38;5;241;43m.\u001B[39;49m\u001B[43mwv\u001B[49m\u001B[43m[\u001B[49m\u001B[38;5;124;43m'\u001B[39;49m\u001B[38;5;124;43mcomputers\u001B[39;49m\u001B[38;5;124;43m'\u001B[39;49m\u001B[43m]\u001B[49m  \u001B[38;5;66;03m# get numpy vector of a word\u001B[39;00m\n\u001B[1;32m      2\u001B[0m sims \u001B[38;5;241m=\u001B[39m model\u001B[38;5;241m.\u001B[39mwv\u001B[38;5;241m.\u001B[39mmost_similar(\u001B[38;5;124m'\u001B[39m\u001B[38;5;124mcomputer\u001B[39m\u001B[38;5;124m'\u001B[39m, topn\u001B[38;5;241m=\u001B[39m\u001B[38;5;241m10\u001B[39m)  \u001B[38;5;66;03m# get other similar words\u001B[39;00m\n",
      "File \u001B[0;32m~/.local/lib/python3.10/site-packages/gensim/models/keyedvectors.py:403\u001B[0m, in \u001B[0;36mKeyedVectors.__getitem__\u001B[0;34m(self, key_or_keys)\u001B[0m\n\u001B[1;32m    389\u001B[0m \u001B[38;5;250m\u001B[39m\u001B[38;5;124;03m\"\"\"Get vector representation of `key_or_keys`.\u001B[39;00m\n\u001B[1;32m    390\u001B[0m \n\u001B[1;32m    391\u001B[0m \u001B[38;5;124;03mParameters\u001B[39;00m\n\u001B[0;32m   (...)\u001B[0m\n\u001B[1;32m    400\u001B[0m \n\u001B[1;32m    401\u001B[0m \u001B[38;5;124;03m\"\"\"\u001B[39;00m\n\u001B[1;32m    402\u001B[0m \u001B[38;5;28;01mif\u001B[39;00m \u001B[38;5;28misinstance\u001B[39m(key_or_keys, _KEY_TYPES):\n\u001B[0;32m--> 403\u001B[0m     \u001B[38;5;28;01mreturn\u001B[39;00m \u001B[38;5;28;43mself\u001B[39;49m\u001B[38;5;241;43m.\u001B[39;49m\u001B[43mget_vector\u001B[49m\u001B[43m(\u001B[49m\u001B[43mkey_or_keys\u001B[49m\u001B[43m)\u001B[49m\n\u001B[1;32m    405\u001B[0m \u001B[38;5;28;01mreturn\u001B[39;00m vstack([\u001B[38;5;28mself\u001B[39m\u001B[38;5;241m.\u001B[39mget_vector(key) \u001B[38;5;28;01mfor\u001B[39;00m key \u001B[38;5;129;01min\u001B[39;00m key_or_keys])\n",
      "File \u001B[0;32m~/.local/lib/python3.10/site-packages/gensim/models/keyedvectors.py:446\u001B[0m, in \u001B[0;36mKeyedVectors.get_vector\u001B[0;34m(self, key, norm)\u001B[0m\n\u001B[1;32m    422\u001B[0m \u001B[38;5;28;01mdef\u001B[39;00m \u001B[38;5;21mget_vector\u001B[39m(\u001B[38;5;28mself\u001B[39m, key, norm\u001B[38;5;241m=\u001B[39m\u001B[38;5;28;01mFalse\u001B[39;00m):\n\u001B[1;32m    423\u001B[0m \u001B[38;5;250m    \u001B[39m\u001B[38;5;124;03m\"\"\"Get the key's vector, as a 1D numpy array.\u001B[39;00m\n\u001B[1;32m    424\u001B[0m \n\u001B[1;32m    425\u001B[0m \u001B[38;5;124;03m    Parameters\u001B[39;00m\n\u001B[0;32m   (...)\u001B[0m\n\u001B[1;32m    444\u001B[0m \n\u001B[1;32m    445\u001B[0m \u001B[38;5;124;03m    \"\"\"\u001B[39;00m\n\u001B[0;32m--> 446\u001B[0m     index \u001B[38;5;241m=\u001B[39m \u001B[38;5;28;43mself\u001B[39;49m\u001B[38;5;241;43m.\u001B[39;49m\u001B[43mget_index\u001B[49m\u001B[43m(\u001B[49m\u001B[43mkey\u001B[49m\u001B[43m)\u001B[49m\n\u001B[1;32m    447\u001B[0m     \u001B[38;5;28;01mif\u001B[39;00m norm:\n\u001B[1;32m    448\u001B[0m         \u001B[38;5;28mself\u001B[39m\u001B[38;5;241m.\u001B[39mfill_norms()\n",
      "File \u001B[0;32m~/.local/lib/python3.10/site-packages/gensim/models/keyedvectors.py:420\u001B[0m, in \u001B[0;36mKeyedVectors.get_index\u001B[0;34m(self, key, default)\u001B[0m\n\u001B[1;32m    418\u001B[0m     \u001B[38;5;28;01mreturn\u001B[39;00m default\n\u001B[1;32m    419\u001B[0m \u001B[38;5;28;01melse\u001B[39;00m:\n\u001B[0;32m--> 420\u001B[0m     \u001B[38;5;28;01mraise\u001B[39;00m \u001B[38;5;167;01mKeyError\u001B[39;00m(\u001B[38;5;124mf\u001B[39m\u001B[38;5;124m\"\u001B[39m\u001B[38;5;124mKey \u001B[39m\u001B[38;5;124m'\u001B[39m\u001B[38;5;132;01m{\u001B[39;00mkey\u001B[38;5;132;01m}\u001B[39;00m\u001B[38;5;124m'\u001B[39m\u001B[38;5;124m not present\u001B[39m\u001B[38;5;124m\"\u001B[39m)\n",
      "\u001B[0;31mKeyError\u001B[0m: \"Key 'computers' not present\""
     ]
    }
   ],
   "source": [
    "vector = model.wv['computers']  # get numpy vector of a word\n",
    "sims = model.wv.most_similar('computer', topn=10)  # get other similar words"
   ],
   "metadata": {
    "collapsed": false,
    "ExecuteTime": {
     "end_time": "2023-06-12T20:50:01.224478500Z",
     "start_time": "2023-06-12T20:50:01.117115100Z"
    }
   }
  },
  {
   "cell_type": "code",
   "execution_count": 14,
   "outputs": [
    {
     "data": {
      "text/plain": "[('system', 0.21617139875888824),\n ('survey', 0.04468922317028046),\n ('interface', 0.015203381888568401),\n ('time', 0.0019510635174810886),\n ('trees', -0.03284316882491112),\n ('human', -0.07424270361661911),\n ('response', -0.09317591041326523),\n ('graph', -0.09575342386960983),\n ('eps', -0.10513808578252792),\n ('user', -0.16911619901657104)]"
     },
     "execution_count": 14,
     "metadata": {},
     "output_type": "execute_result"
    }
   ],
   "source": [
    "sims"
   ],
   "metadata": {
    "collapsed": false,
    "ExecuteTime": {
     "end_time": "2023-06-12T20:49:57.338781400Z",
     "start_time": "2023-06-12T20:49:57.333259200Z"
    }
   }
  },
  {
   "cell_type": "code",
   "execution_count": 8,
   "outputs": [
    {
     "name": "stdout",
     "output_type": "stream",
     "text": [
      "huggingface/tokenizers: The current process just got forked, after parallelism has already been used. Disabling parallelism to avoid deadlocks...\n",
      "To disable this warning, you can either:\n",
      "\t- Avoid using `tokenizers` before the fork if possible\n",
      "\t- Explicitly set the environment variable TOKENIZERS_PARALLELISM=(true | false)\n",
      "Defaulting to user installation because normal site-packages is not writeable\r\n",
      "Requirement already satisfied: datasets in /home/canis/.local/lib/python3.10/site-packages (2.12.0)\r\n",
      "Requirement already satisfied: multiprocess in /home/canis/.local/lib/python3.10/site-packages (from datasets) (0.70.14)\r\n",
      "Requirement already satisfied: aiohttp in /home/canis/.local/lib/python3.10/site-packages (from datasets) (3.8.4)\r\n",
      "Requirement already satisfied: numpy>=1.17 in /home/canis/.local/lib/python3.10/site-packages (from datasets) (1.23.5)\r\n",
      "Requirement already satisfied: xxhash in /home/canis/.local/lib/python3.10/site-packages (from datasets) (3.2.0)\r\n",
      "Requirement already satisfied: requests>=2.19.0 in /home/canis/.local/lib/python3.10/site-packages (from datasets) (2.31.0)\r\n",
      "Requirement already satisfied: pyyaml>=5.1 in /usr/lib/python3/dist-packages (from datasets) (5.4.1)\r\n",
      "Requirement already satisfied: pandas in /home/canis/.local/lib/python3.10/site-packages (from datasets) (2.0.2)\r\n",
      "Requirement already satisfied: responses<0.19 in /home/canis/.local/lib/python3.10/site-packages (from datasets) (0.18.0)\r\n",
      "Requirement already satisfied: dill<0.3.7,>=0.3.0 in /home/canis/.local/lib/python3.10/site-packages (from datasets) (0.3.6)\r\n",
      "Requirement already satisfied: fsspec[http]>=2021.11.1 in /home/canis/.local/lib/python3.10/site-packages (from datasets) (2023.5.0)\r\n",
      "Requirement already satisfied: pyarrow>=8.0.0 in /home/canis/.local/lib/python3.10/site-packages (from datasets) (12.0.0)\r\n",
      "Requirement already satisfied: huggingface-hub<1.0.0,>=0.11.0 in /home/canis/.local/lib/python3.10/site-packages (from datasets) (0.15.1)\r\n",
      "Requirement already satisfied: packaging in /home/canis/.local/lib/python3.10/site-packages (from datasets) (23.1)\r\n",
      "Requirement already satisfied: tqdm>=4.62.1 in /home/canis/.local/lib/python3.10/site-packages (from datasets) (4.65.0)\r\n",
      "Requirement already satisfied: frozenlist>=1.1.1 in /home/canis/.local/lib/python3.10/site-packages (from aiohttp->datasets) (1.3.3)\r\n",
      "Requirement already satisfied: yarl<2.0,>=1.0 in /home/canis/.local/lib/python3.10/site-packages (from aiohttp->datasets) (1.9.2)\r\n",
      "Requirement already satisfied: attrs>=17.3.0 in /home/canis/.local/lib/python3.10/site-packages (from aiohttp->datasets) (23.1.0)\r\n",
      "Requirement already satisfied: multidict<7.0,>=4.5 in /home/canis/.local/lib/python3.10/site-packages (from aiohttp->datasets) (6.0.4)\r\n",
      "Requirement already satisfied: async-timeout<5.0,>=4.0.0a3 in /home/canis/.local/lib/python3.10/site-packages (from aiohttp->datasets) (4.0.2)\r\n",
      "Requirement already satisfied: aiosignal>=1.1.2 in /home/canis/.local/lib/python3.10/site-packages (from aiohttp->datasets) (1.3.1)\r\n",
      "Requirement already satisfied: charset-normalizer<4.0,>=2.0 in /home/canis/.local/lib/python3.10/site-packages (from aiohttp->datasets) (3.1.0)\r\n",
      "Requirement already satisfied: filelock in /home/canis/.local/lib/python3.10/site-packages (from huggingface-hub<1.0.0,>=0.11.0->datasets) (3.12.0)\r\n",
      "Requirement already satisfied: typing-extensions>=3.7.4.3 in /home/canis/.local/lib/python3.10/site-packages (from huggingface-hub<1.0.0,>=0.11.0->datasets) (4.6.2)\r\n",
      "Requirement already satisfied: certifi>=2017.4.17 in /home/canis/.local/lib/python3.10/site-packages (from requests>=2.19.0->datasets) (2023.5.7)\r\n",
      "Requirement already satisfied: urllib3<3,>=1.21.1 in /home/canis/.local/lib/python3.10/site-packages (from requests>=2.19.0->datasets) (1.26.16)\r\n",
      "Requirement already satisfied: idna<4,>=2.5 in /home/canis/.local/lib/python3.10/site-packages (from requests>=2.19.0->datasets) (3.4)\r\n",
      "Requirement already satisfied: python-dateutil>=2.8.2 in /home/canis/.local/lib/python3.10/site-packages (from pandas->datasets) (2.8.2)\r\n",
      "Requirement already satisfied: tzdata>=2022.1 in /home/canis/.local/lib/python3.10/site-packages (from pandas->datasets) (2023.3)\r\n",
      "Requirement already satisfied: pytz>=2020.1 in /home/canis/.local/lib/python3.10/site-packages (from pandas->datasets) (2023.3)\r\n",
      "Requirement already satisfied: six>=1.5 in /usr/lib/python3/dist-packages (from python-dateutil>=2.8.2->pandas->datasets) (1.16.0)\r\n",
      "huggingface/tokenizers: The current process just got forked, after parallelism has already been used. Disabling parallelism to avoid deadlocks...\n",
      "To disable this warning, you can either:\n",
      "\t- Avoid using `tokenizers` before the fork if possible\n",
      "\t- Explicitly set the environment variable TOKENIZERS_PARALLELISM=(true | false)\n",
      "Defaulting to user installation because normal site-packages is not writeable\r\n",
      "Collecting accelerate\r\n",
      "  Downloading accelerate-0.20.3-py3-none-any.whl (227 kB)\r\n",
      "\u001B[2K     \u001B[90m━━━━━━━━━━━━━━━━━━━━━━━━━━━━━━━━━━━━━━━\u001B[0m \u001B[32m227.6/227.6 KB\u001B[0m \u001B[31m2.7 MB/s\u001B[0m eta \u001B[36m0:00:00\u001B[0ma \u001B[36m0:00:01\u001B[0m\r\n",
      "\u001B[?25hRequirement already satisfied: numpy>=1.17 in /home/canis/.local/lib/python3.10/site-packages (from accelerate) (1.23.5)\r\n",
      "Requirement already satisfied: psutil in /home/canis/.local/lib/python3.10/site-packages (from accelerate) (5.9.5)\r\n",
      "Requirement already satisfied: torch>=1.6.0 in /home/canis/.local/lib/python3.10/site-packages (from accelerate) (2.0.1)\r\n",
      "Requirement already satisfied: pyyaml in /usr/lib/python3/dist-packages (from accelerate) (5.4.1)\r\n",
      "Requirement already satisfied: packaging>=20.0 in /home/canis/.local/lib/python3.10/site-packages (from accelerate) (23.1)\r\n",
      "Requirement already satisfied: nvidia-nvtx-cu11==11.7.91 in /home/canis/.local/lib/python3.10/site-packages (from torch>=1.6.0->accelerate) (11.7.91)\r\n",
      "Requirement already satisfied: nvidia-nccl-cu11==2.14.3 in /home/canis/.local/lib/python3.10/site-packages (from torch>=1.6.0->accelerate) (2.14.3)\r\n",
      "Requirement already satisfied: filelock in /home/canis/.local/lib/python3.10/site-packages (from torch>=1.6.0->accelerate) (3.12.0)\r\n",
      "Requirement already satisfied: nvidia-cublas-cu11==11.10.3.66 in /home/canis/.local/lib/python3.10/site-packages (from torch>=1.6.0->accelerate) (11.10.3.66)\r\n",
      "Requirement already satisfied: nvidia-cuda-runtime-cu11==11.7.99 in /home/canis/.local/lib/python3.10/site-packages (from torch>=1.6.0->accelerate) (11.7.99)\r\n",
      "Requirement already satisfied: nvidia-cuda-nvrtc-cu11==11.7.99 in /home/canis/.local/lib/python3.10/site-packages (from torch>=1.6.0->accelerate) (11.7.99)\r\n",
      "Requirement already satisfied: nvidia-cusparse-cu11==11.7.4.91 in /home/canis/.local/lib/python3.10/site-packages (from torch>=1.6.0->accelerate) (11.7.4.91)\r\n",
      "Requirement already satisfied: sympy in /home/canis/.local/lib/python3.10/site-packages (from torch>=1.6.0->accelerate) (1.12)\r\n",
      "Requirement already satisfied: networkx in /home/canis/.local/lib/python3.10/site-packages (from torch>=1.6.0->accelerate) (3.1)\r\n",
      "Requirement already satisfied: triton==2.0.0 in /home/canis/.local/lib/python3.10/site-packages (from torch>=1.6.0->accelerate) (2.0.0)\r\n",
      "Requirement already satisfied: jinja2 in /home/canis/.local/lib/python3.10/site-packages (from torch>=1.6.0->accelerate) (3.1.2)\r\n",
      "Requirement already satisfied: nvidia-cufft-cu11==10.9.0.58 in /home/canis/.local/lib/python3.10/site-packages (from torch>=1.6.0->accelerate) (10.9.0.58)\r\n",
      "Requirement already satisfied: nvidia-cusolver-cu11==11.4.0.1 in /home/canis/.local/lib/python3.10/site-packages (from torch>=1.6.0->accelerate) (11.4.0.1)\r\n",
      "Requirement already satisfied: nvidia-curand-cu11==10.2.10.91 in /home/canis/.local/lib/python3.10/site-packages (from torch>=1.6.0->accelerate) (10.2.10.91)\r\n",
      "Requirement already satisfied: nvidia-cuda-cupti-cu11==11.7.101 in /home/canis/.local/lib/python3.10/site-packages (from torch>=1.6.0->accelerate) (11.7.101)\r\n",
      "Requirement already satisfied: nvidia-cudnn-cu11==8.5.0.96 in /home/canis/.local/lib/python3.10/site-packages (from torch>=1.6.0->accelerate) (8.5.0.96)\r\n",
      "Requirement already satisfied: typing-extensions in /home/canis/.local/lib/python3.10/site-packages (from torch>=1.6.0->accelerate) (4.6.2)\r\n",
      "Requirement already satisfied: wheel in /usr/lib/python3/dist-packages (from nvidia-cublas-cu11==11.10.3.66->torch>=1.6.0->accelerate) (0.37.1)\r\n",
      "Requirement already satisfied: setuptools in /usr/lib/python3/dist-packages (from nvidia-cublas-cu11==11.10.3.66->torch>=1.6.0->accelerate) (59.6.0)\r\n",
      "Requirement already satisfied: cmake in /home/canis/.local/lib/python3.10/site-packages (from triton==2.0.0->torch>=1.6.0->accelerate) (3.26.3)\r\n",
      "Requirement already satisfied: lit in /home/canis/.local/lib/python3.10/site-packages (from triton==2.0.0->torch>=1.6.0->accelerate) (16.0.5.post0)\r\n",
      "Requirement already satisfied: MarkupSafe>=2.0 in /home/canis/.local/lib/python3.10/site-packages (from jinja2->torch>=1.6.0->accelerate) (2.1.2)\r\n",
      "Requirement already satisfied: mpmath>=0.19 in /home/canis/.local/lib/python3.10/site-packages (from sympy->torch>=1.6.0->accelerate) (1.3.0)\r\n",
      "Installing collected packages: accelerate\r\n",
      "Successfully installed accelerate-0.20.3\r\n"
     ]
    }
   ],
   "source": [
    "!pip install datasets\n",
    "!pip install --upgrade accelerate"
   ],
   "metadata": {
    "collapsed": false,
    "ExecuteTime": {
     "end_time": "2023-06-12T23:03:28.999979900Z",
     "start_time": "2023-06-12T23:03:23.151051400Z"
    }
   }
  },
  {
   "cell_type": "code",
   "execution_count": 4,
   "outputs": [
    {
     "name": "stderr",
     "output_type": "stream",
     "text": [
      "2023-06-12 20:01:32.587622: I tensorflow/core/platform/cpu_feature_guard.cc:182] This TensorFlow binary is optimized to use available CPU instructions in performance-critical operations.\n",
      "To enable the following instructions: AVX2 FMA, in other operations, rebuild TensorFlow with the appropriate compiler flags.\n",
      "2023-06-12 20:01:33.859347: W tensorflow/compiler/tf2tensorrt/utils/py_utils.cc:38] TF-TRT Warning: Could not find TensorRT\n"
     ]
    }
   ],
   "source": [
    "from transformers import AutoTokenizer, AutoModelForSequenceClassification, TrainingArguments, Trainer\n",
    "from datasets import load_dataset"
   ],
   "metadata": {
    "collapsed": false,
    "ExecuteTime": {
     "end_time": "2023-06-12T23:01:36.014048Z",
     "start_time": "2023-06-12T23:01:29.227277800Z"
    }
   }
  },
  {
   "cell_type": "code",
   "execution_count": 1,
   "outputs": [
    {
     "ename": "NameError",
     "evalue": "name 'AutoModelForSequenceClassification' is not defined",
     "output_type": "error",
     "traceback": [
      "\u001B[0;31m---------------------------------------------------------------------------\u001B[0m",
      "\u001B[0;31mNameError\u001B[0m                                 Traceback (most recent call last)",
      "Cell \u001B[0;32mIn[1], line 1\u001B[0m\n\u001B[0;32m----> 1\u001B[0m model \u001B[38;5;241m=\u001B[39m \u001B[43mAutoModelForSequenceClassification\u001B[49m\u001B[38;5;241m.\u001B[39mfrom_pretrained(\u001B[38;5;124m\"\u001B[39m\u001B[38;5;124mPORTULAN/albertina-ptbr\u001B[39m\u001B[38;5;124m\"\u001B[39m, num_labels\u001B[38;5;241m=\u001B[39m\u001B[38;5;241m2\u001B[39m)\n\u001B[1;32m      2\u001B[0m tokenizer \u001B[38;5;241m=\u001B[39m AutoTokenizer\u001B[38;5;241m.\u001B[39mfrom_pretrained(\u001B[38;5;124m\"\u001B[39m\u001B[38;5;124mPORTULAN/albertina-ptbr\u001B[39m\u001B[38;5;124m\"\u001B[39m)\n\u001B[1;32m      3\u001B[0m dataset \u001B[38;5;241m=\u001B[39m load_dataset(\u001B[38;5;124m\"\u001B[39m\u001B[38;5;124mPORTULAN/glue-ptpt\u001B[39m\u001B[38;5;124m\"\u001B[39m, \u001B[38;5;124m\"\u001B[39m\u001B[38;5;124mrte\u001B[39m\u001B[38;5;124m\"\u001B[39m)\n",
      "\u001B[0;31mNameError\u001B[0m: name 'AutoModelForSequenceClassification' is not defined"
     ]
    }
   ],
   "source": [
    "model = AutoModelForSequenceClassification.from_pretrained(\"PORTULAN/albertina-ptbr\", num_labels=2)\n",
    "tokenizer = AutoTokenizer.from_pretrained(\"PORTULAN/albertina-ptbr\")\n",
    "dataset = load_dataset(\"PORTULAN/glue-ptpt\", \"rte\")\n",
    "\n",
    "def tokenize_function(examples):\n",
    "    return tokenizer(examples[\"sentence1\"], examples[\"sentence2\"], padding=\"max_length\", truncation=True)\n",
    "\n",
    "tokenized_datasets = dataset.map(tokenize_function, batched=True)\n",
    "\n",
    "training_args = TrainingArguments(output_dir=\"albertina-ptbr-rte\", evaluation_strategy=\"epoch\")\n",
    "trainer = Trainer(\n",
    "    model=model,\n",
    "    args=training_args,\n",
    "    train_dataset=tokenized_datasets[\"train\"],\n",
    "    eval_dataset=tokenized_datasets[\"validation\"],\n",
    ")\n",
    "\n",
    "trainer.train()\n",
    "\n",
    "trainer.label_names()"
   ],
   "metadata": {
    "collapsed": false,
    "ExecuteTime": {
     "end_time": "2023-06-12T23:05:46.151558900Z",
     "start_time": "2023-06-12T23:05:46.045066200Z"
    }
   }
  },
  {
   "cell_type": "code",
   "execution_count": null,
   "outputs": [],
   "source": [],
   "metadata": {
    "collapsed": false
   }
  }
 ],
 "metadata": {
  "kernelspec": {
   "display_name": "Python 3",
   "language": "python",
   "name": "python3"
  },
  "language_info": {
   "codemirror_mode": {
    "name": "ipython",
    "version": 2
   },
   "file_extension": ".py",
   "mimetype": "text/x-python",
   "name": "python",
   "nbconvert_exporter": "python",
   "pygments_lexer": "ipython2",
   "version": "2.7.6"
  }
 },
 "nbformat": 4,
 "nbformat_minor": 0
}

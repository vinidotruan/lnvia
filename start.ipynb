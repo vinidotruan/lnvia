{
 "cells": [
  {
   "cell_type": "code",
   "execution_count": 6,
   "metadata": {
    "ExecuteTime": {
     "end_time": "2023-06-12T20:06:30.922926100Z",
     "start_time": "2023-06-12T20:06:28.730461900Z"
    },
    "collapsed": true
   },
   "outputs": [
    {
     "name": "stdout",
     "output_type": "stream",
     "text": [
      "huggingface/tokenizers: The current process just got forked, after parallelism has already been used. Disabling parallelism to avoid deadlocks...\n",
      "To disable this warning, you can either:\n",
      "\t- Avoid using `tokenizers` before the fork if possible\n",
      "\t- Explicitly set the environment variable TOKENIZERS_PARALLELISM=(true | false)\n",
      "Defaulting to user installation because normal site-packages is not writeable\r\n",
      "Requirement already satisfied: sumy in ./.local/lib/python3.10/site-packages (0.11.0)\r\n",
      "Requirement already satisfied: pycountry>=18.2.23 in ./.local/lib/python3.10/site-packages (from sumy) (22.3.5)\r\n",
      "Requirement already satisfied: requests>=2.7.0 in ./.local/lib/python3.10/site-packages (from sumy) (2.31.0)\r\n",
      "Requirement already satisfied: docopt<0.7,>=0.6.1 in ./.local/lib/python3.10/site-packages (from sumy) (0.6.2)\r\n",
      "Requirement already satisfied: breadability>=0.1.20 in ./.local/lib/python3.10/site-packages (from sumy) (0.1.20)\r\n",
      "Requirement already satisfied: nltk>=3.0.2 in ./.local/lib/python3.10/site-packages (from sumy) (3.8.1)\r\n",
      "Requirement already satisfied: chardet in ./.local/lib/python3.10/site-packages (from breadability>=0.1.20->sumy) (5.1.0)\r\n",
      "Requirement already satisfied: lxml>=2.0 in ./.local/lib/python3.10/site-packages (from breadability>=0.1.20->sumy) (4.9.2)\r\n",
      "Requirement already satisfied: tqdm in ./.local/lib/python3.10/site-packages (from nltk>=3.0.2->sumy) (4.65.0)\r\n",
      "Requirement already satisfied: joblib in ./.local/lib/python3.10/site-packages (from nltk>=3.0.2->sumy) (1.2.0)\r\n",
      "Requirement already satisfied: regex>=2021.8.3 in ./.local/lib/python3.10/site-packages (from nltk>=3.0.2->sumy) (2023.6.3)\r\n",
      "Requirement already satisfied: click in ./.local/lib/python3.10/site-packages (from nltk>=3.0.2->sumy) (8.1.3)\r\n",
      "Requirement already satisfied: setuptools in /usr/lib/python3/dist-packages (from pycountry>=18.2.23->sumy) (59.6.0)\r\n",
      "Requirement already satisfied: urllib3<3,>=1.21.1 in ./.local/lib/python3.10/site-packages (from requests>=2.7.0->sumy) (1.26.16)\r\n",
      "Requirement already satisfied: idna<4,>=2.5 in ./.local/lib/python3.10/site-packages (from requests>=2.7.0->sumy) (3.4)\r\n",
      "Requirement already satisfied: charset-normalizer<4,>=2 in ./.local/lib/python3.10/site-packages (from requests>=2.7.0->sumy) (3.1.0)\r\n",
      "Requirement already satisfied: certifi>=2017.4.17 in ./.local/lib/python3.10/site-packages (from requests>=2.7.0->sumy) (2023.5.7)\r\n",
      "Note: you may need to restart the kernel to use updated packages.\n"
     ]
    }
   ],
   "source": [
    "%pip install sumy"
   ]
  },
  {
   "cell_type": "code",
   "execution_count": 24,
   "metadata": {
    "ExecuteTime": {
     "end_time": "2023-06-12T20:41:06.126505300Z",
     "start_time": "2023-06-12T20:41:06.080911Z"
    },
    "collapsed": false
   },
   "outputs": [
    {
     "name": "stderr",
     "output_type": "stream",
     "text": [
      "[nltk_data] Downloading package punkt to /home/canis/nltk_data...\n",
      "[nltk_data]   Package punkt is already up-to-date!\n"
     ]
    },
    {
     "data": {
      "text/plain": [
       "True"
      ]
     },
     "execution_count": 24,
     "metadata": {},
     "output_type": "execute_result"
    }
   ],
   "source": [
    "from sumy.parsers.plaintext import PlaintextParser\n",
    "from sumy.nlp.tokenizers import Tokenizer\n",
    "from sumy.summarizers.lex_rank import LexRankSummarizer\n",
    "import nltk\n",
    "nltk.download('punkt')"
   ]
  },
  {
   "cell_type": "code",
   "execution_count": 28,
   "metadata": {
    "ExecuteTime": {
     "end_time": "2023-06-12T20:41:30.097038100Z",
     "start_time": "2023-06-12T20:41:30.090026900Z"
    },
    "collapsed": false
   },
   "outputs": [],
   "source": [
    "parser = PlaintextParser.from_file(file_path=\"/home/canis/studies/lnvia/laws.txt\", tokenizer=Tokenizer(\"portuguese\"))"
   ]
  },
  {
   "cell_type": "code",
   "execution_count": 33,
   "metadata": {
    "ExecuteTime": {
     "end_time": "2023-06-12T20:42:02.043055900Z",
     "start_time": "2023-06-12T20:42:01.956597900Z"
    },
    "collapsed": false
   },
   "outputs": [],
   "source": [
    "from sumy.utils import get_stop_words\n",
    "\n",
    "summarizer = LexRankSummarizer()\n",
    "summarizer.stop_words = get_stop_words(\"portuguese\")\n",
    "summary = summarizer(parser.document, sentences_count=10)"
   ]
  },
  {
   "cell_type": "code",
   "execution_count": 34,
   "metadata": {
    "ExecuteTime": {
     "end_time": "2023-06-12T20:42:04.108991300Z",
     "start_time": "2023-06-12T20:42:04.103133500Z"
    },
    "collapsed": false
   },
   "outputs": [
    {
     "name": "stdout",
     "output_type": "stream",
     "text": [
      "5º Todos são iguais perante a lei, sem distinção de qualquer natureza, garantindo-se aos brasileiros e aos estrangeiros residentes no País a inviolabilidade do direito à vida, à liberdade, à igualdade, à segurança e à propriedade, nos termos seguintes:\n",
      "XV - é livre a locomoção no território nacional em tempo de paz, podendo qualquer pessoa, nos termos da lei, nele entrar, permanecer ou dele sair com seus bens;\n",
      "XXVIII - são assegurados, nos termos da lei:\n",
      "a) o direito de petição aos poderes públicos em defesa de direitos ou contra ilegalidade ou abuso de poder;\n",
      "d) prestação social alternativa;\n",
      "b) de caráter perpétuo;\n",
      "LIV - ninguém será privado da liberdade ou de seus bens sem o devido processo legal;\n",
      "LXII - a prisão de qualquer pessoa e o local onde se encontre serão comunicados imediatamente ao juiz competente e à família do preso ou à pessoa por ele indicada;\n",
      "LXVII - não haverá prisão civil por dívida, salvo a do responsável pelo inadimplemento voluntário e inescusável de obrigação alimentícia e a do depositário infiel;\n",
      "LXIX - conceder-se-á mandado de segurança para proteger direito líquido e certo, não amparado por habeas corpus ou habeas data, quando o responsável pela ilegalidade ou abuso de poder for autoridade pública ou agente de pessoa jurídica no exercício de atribuições do poder público;\n"
     ]
    }
   ],
   "source": [
    "for sentence in summary:\n",
    "    print(sentence)"
   ]
  },
  {
   "cell_type": "code",
   "execution_count": null,
   "metadata": {
    "collapsed": false
   },
   "outputs": [],
   "source": []
  }
 ],
 "metadata": {
  "kernelspec": {
   "display_name": "Python 3 (ipykernel)",
   "language": "python",
   "name": "python3"
  }
 },
 "nbformat": 4,
 "nbformat_minor": 1
}
